{
 "cells": [
  {
   "cell_type": "code",
   "execution_count": 1,
   "metadata": {},
   "outputs": [],
   "source": [
    "import matplotlib.pyplot as plt\n",
    "import pandas as pd\n",
    "import scipy.stats as st\n",
    "import time\n",
    "import statistics\n",
    "import math"
   ]
  },
  {
   "cell_type": "code",
   "execution_count": 2,
   "metadata": {},
   "outputs": [],
   "source": [
    "# get data\n",
    "mouse_csv = '../../../05-Matplotlib/Instructions/Pymaceuticals/data/Mouse_metadata.csv'\n",
    "study_csv = '../../../05-Matplotlib/Instructions/Pymaceuticals/data/Study_results.csv'\n",
    "study_data = pd.read_csv(study_csv)\n",
    "mouse_data = pd.read_csv(mouse_csv)"
   ]
  },
  {
   "cell_type": "code",
   "execution_count": 3,
   "metadata": {},
   "outputs": [
    {
     "data": {
      "text/plain": [
       "<bound method NDFrame.head of     Mouse ID Drug Regimen     Sex  Age_months  Weight (g)\n",
       "0       k403     Ramicane    Male          21          16\n",
       "1       s185    Capomulin  Female           3          17\n",
       "2       x401    Capomulin  Female          16          15\n",
       "3       m601    Capomulin    Male          22          17\n",
       "4       g791     Ramicane    Male          11          16\n",
       "..       ...          ...     ...         ...         ...\n",
       "244     z314     Stelasyn  Female          21          28\n",
       "245     z435     Propriva  Female          12          26\n",
       "246     z581    Infubinol  Female          24          25\n",
       "247     z795     Naftisol  Female          13          29\n",
       "248     z969     Naftisol    Male           9          30\n",
       "\n",
       "[249 rows x 5 columns]>"
      ]
     },
     "execution_count": 3,
     "metadata": {},
     "output_type": "execute_result"
    }
   ],
   "source": [
    "# inspect data\n",
    "mouse_data.head\n",
    "#mouse_data_all.shape"
   ]
  },
  {
   "cell_type": "code",
   "execution_count": 4,
   "metadata": {},
   "outputs": [
    {
     "data": {
      "text/plain": [
       "<bound method NDFrame.head of      Mouse ID  Timepoint  Tumor Volume (mm3)  Metastatic Sites\n",
       "0        b128          0           45.000000                 0\n",
       "1        f932          0           45.000000                 0\n",
       "2        g107          0           45.000000                 0\n",
       "3        a457          0           45.000000                 0\n",
       "4        c819          0           45.000000                 0\n",
       "...       ...        ...                 ...               ...\n",
       "1888     r944         45           41.581521                 2\n",
       "1889     u364         45           31.023923                 3\n",
       "1890     p438         45           61.433892                 1\n",
       "1891     x773         45           58.634971                 4\n",
       "1892     b879         45           72.555239                 2\n",
       "\n",
       "[1893 rows x 4 columns]>"
      ]
     },
     "execution_count": 4,
     "metadata": {},
     "output_type": "execute_result"
    }
   ],
   "source": [
    "# inspect data\n",
    "study_data.head\n",
    "#study_data.shape"
   ]
  },
  {
   "cell_type": "code",
   "execution_count": 5,
   "metadata": {},
   "outputs": [],
   "source": [
    "# combine mouse and study dataframes\n",
    "all_data = pd.merge(mouse_data, study_data, on=\"Mouse ID\")"
   ]
  },
  {
   "cell_type": "code",
   "execution_count": 6,
   "metadata": {},
   "outputs": [
    {
     "data": {
      "text/plain": [
       "<bound method NDFrame.head of      Mouse ID Drug Regimen   Sex  Age_months  Weight (g)  Timepoint  \\\n",
       "0        k403     Ramicane  Male          21          16          0   \n",
       "1        k403     Ramicane  Male          21          16          5   \n",
       "2        k403     Ramicane  Male          21          16         10   \n",
       "3        k403     Ramicane  Male          21          16         15   \n",
       "4        k403     Ramicane  Male          21          16         20   \n",
       "...       ...          ...   ...         ...         ...        ...   \n",
       "1888     z969     Naftisol  Male           9          30         25   \n",
       "1889     z969     Naftisol  Male           9          30         30   \n",
       "1890     z969     Naftisol  Male           9          30         35   \n",
       "1891     z969     Naftisol  Male           9          30         40   \n",
       "1892     z969     Naftisol  Male           9          30         45   \n",
       "\n",
       "      Tumor Volume (mm3)  Metastatic Sites  \n",
       "0              45.000000                 0  \n",
       "1              38.825898                 0  \n",
       "2              35.014271                 1  \n",
       "3              34.223992                 1  \n",
       "4              32.997729                 1  \n",
       "...                  ...               ...  \n",
       "1888           63.145652                 2  \n",
       "1889           65.841013                 3  \n",
       "1890           69.176246                 4  \n",
       "1891           70.314904                 4  \n",
       "1892           73.867845                 4  \n",
       "\n",
       "[1893 rows x 8 columns]>"
      ]
     },
     "execution_count": 6,
     "metadata": {},
     "output_type": "execute_result"
    }
   ],
   "source": [
    "# inspect merged data\n",
    "all_data.head\n",
    "#all_data.shape"
   ]
  },
  {
   "cell_type": "code",
   "execution_count": 7,
   "metadata": {},
   "outputs": [
    {
     "data": {
      "text/plain": [
       "(1892, 8)"
      ]
     },
     "execution_count": 7,
     "metadata": {},
     "output_type": "execute_result"
    }
   ],
   "source": [
    "# drop duplicates in mouse data\n",
    "# result = one duplicated mouse\n",
    "final_data = all_data.drop_duplicates()\n",
    "final_data.shape"
   ]
  },
  {
   "cell_type": "code",
   "execution_count": 8,
   "metadata": {},
   "outputs": [
    {
     "data": {
      "text/plain": [
       "249"
      ]
     },
     "execution_count": 8,
     "metadata": {},
     "output_type": "execute_result"
    }
   ],
   "source": [
    "# find number of mice\n",
    "mouse_count = len(final_data['Mouse ID'].unique())\n",
    "mouse_count"
   ]
  },
  {
   "cell_type": "code",
   "execution_count": 9,
   "metadata": {},
   "outputs": [],
   "source": [
    "# write to csv\n",
    "#final_data.to_csv('final_data.csv')"
   ]
  },
  {
   "cell_type": "code",
   "execution_count": 10,
   "metadata": {},
   "outputs": [
    {
     "data": {
      "text/plain": [
       "array(['Ramicane', 'Capomulin', 'Infubinol', 'Placebo', 'Ceftamin',\n",
       "       'Stelasyn', 'Zoniferol', 'Ketapril', 'Propriva', 'Naftisol'],\n",
       "      dtype=object)"
      ]
     },
     "execution_count": 10,
     "metadata": {},
     "output_type": "execute_result"
    }
   ],
   "source": [
    "# find unique drug regimens\n",
    "unique_drug_regimens = final_data['Drug Regimen'].unique()\n",
    "unique_drug_regimens"
   ]
  },
  {
   "cell_type": "code",
   "execution_count": 11,
   "metadata": {},
   "outputs": [],
   "source": [
    "# filter all data to make separate regimen dataframes\n",
    "ramicane_data = final_data[final_data['Drug Regimen']==\"Ramicane\"]\n",
    "capomulin_data = final_data[final_data['Drug Regimen']==\"Capomulin\"]\n",
    "infubinol_data = final_data[final_data['Drug Regimen']==\"Infubinol\"]\n",
    "ceftamin_data = final_data[final_data['Drug Regimen']==\"Ceftamin\"]\n",
    "stelasyn_data = final_data[final_data['Drug Regimen']==\"Stelasyn\"]\n",
    "zoniferol_data = final_data[final_data['Drug Regimen']==\"Zoniferol\"]\n",
    "ketapril_data = final_data[final_data['Drug Regimen']==\"Ketapril\"]\n",
    "propriva_data = final_data[final_data['Drug Regimen']==\"Propriva\"]\n",
    "naftisol_data = final_data[final_data['Drug Regimen']==\"Naftisol\"]\n"
   ]
  },
  {
   "cell_type": "code",
   "execution_count": 12,
   "metadata": {},
   "outputs": [],
   "source": [
    "## create some functions to extract mean tumor volumes:\n",
    "# function to append volumes to a list\n",
    "def collectMeanVols(dfIN, theDrug):\n",
    "    meanVolPerTimePoint = []\n",
    "    medianVolPerTimePoint = []\n",
    "    varianceVolPerTimePoint = []\n",
    "    stDevVolPerTimepoint = []\n",
    "    semVolPerTimepoint = []\n",
    "    allTimePoints = getTimePoints(dfIN)\n",
    "    for timePoint in allTimePoints:\n",
    "        theMean, theMedian, theVar, theStDev, theSEM = getVolume(dfIN, timePoint)\n",
    "        meanVolPerTimePoint.append(theMean)\n",
    "        medianVolPerTimePoint.append(theMedian)\n",
    "        varianceVolPerTimePoint.append(theVar)\n",
    "        stDevVolPerTimepoint.append(theStDev)\n",
    "        semVolPerTimepoint.append(theSEM)\n",
    "        #meanVolPerTimePoint.append(getVolume(df, timePoint))\n",
    "    totalMean = statistics.mean(meanVolPerTimePoint)\n",
    "    \n",
    "    # I decided to assess drug efficacy using the last data point in time series\n",
    "    dfOUT = pd.DataFrame(data={theDrug: [meanVolPerTimePoint[-1], medianVolPerTimePoint[-1], varianceVolPerTimePoint[-1], stDevVolPerTimepoint[-1], semVolPerTimepoint[-1]]})\n",
    "    \n",
    "    # also calculate number of mice used in study (i.e. number of unique mouse IDs)\n",
    "    numberOfMice = len(dfIN['Mouse ID'].unique())\n",
    "    \n",
    "    # return variables\n",
    "    return dfOUT, numberOfMice\n",
    " \n",
    "# function to get unique time points:\n",
    "def getTimePoints(df):\n",
    "    timePoints = df.Timepoint.unique()\n",
    "    return timePoints\n",
    "\n",
    "# function to get mean volume per time point\n",
    "def getVolume(df, timePoint):\n",
    "    df = df[df['Timepoint']==timePoint]\n",
    "    theMean = df['Tumor Volume (mm3)'].mean()\n",
    "    theMedian = df['Tumor Volume (mm3)'].median()\n",
    "    theVar = df['Tumor Volume (mm3)'].var()\n",
    "    theStDev = df['Tumor Volume (mm3)'].std()\n",
    "    theSEM = theStDev/math.sqrt(len(df.index))\n",
    "    return theMean, theMedian, theVar, theStDev, theSEM\n",
    "\n",
    "\n",
    "    "
   ]
  },
  {
   "cell_type": "code",
   "execution_count": 13,
   "metadata": {},
   "outputs": [
    {
     "data": {
      "text/plain": [
       "array(['Ramicane', 'Capomulin', 'Infubinol', 'Placebo', 'Ceftamin',\n",
       "       'Stelasyn', 'Zoniferol', 'Ketapril', 'Propriva', 'Naftisol'],\n",
       "      dtype=object)"
      ]
     },
     "execution_count": 13,
     "metadata": {},
     "output_type": "execute_result"
    }
   ],
   "source": [
    "# run each drug regimen through my function to extract stats\n",
    "ramicane_df, ramicaneMouseNumber = collectMeanVols(ramicane_data, unique_drug_regimens[0])\n",
    "capomulin_df, capomulinMouseNumber = collectMeanVols(capomulin_data, unique_drug_regimens[1])\n",
    "infubinol_df, infubinolMouseNumber = collectMeanVols(infubinol_data, unique_drug_regimens[2])\n",
    "placebo_df, placeboMouseNumber = collectMeanVols(infubinol_data, unique_drug_regimens[3])\n",
    "ceftamin_df, ceftaminMouseNumber = collectMeanVols(ceftamin_data, unique_drug_regimens[4])         \n",
    "stelasyn_df, stelasynMouseNumber = collectMeanVols(stelasyn_data, unique_drug_regimens[5])         \n",
    "zoniferol_df, zoniferolMouseNumber = collectMeanVols(zoniferol_data, unique_drug_regimens[6])         \n",
    "ketapril_df, ketaprilMouseNumber = collectMeanVols(ketapril_data, unique_drug_regimens[7])          \n",
    "propriva_df, proprivaMouseNumber = collectMeanVols(propriva_data, unique_drug_regimens[8])          \n",
    "naftisol_df, naftisolMouseNumber = collectMeanVols(naftisol_data, unique_drug_regimens[9])       \n",
    "\n",
    "unique_drug_regimens"
   ]
  },
  {
   "cell_type": "code",
   "execution_count": 14,
   "metadata": {},
   "outputs": [],
   "source": [
    "# concat all regimens into 1 df\n",
    "drugRegimenStats=pd.concat([ramicane_df,capomulin_df,infubinol_df,placebo_df,ceftamin_df,stelasyn_df,zoniferol_df,ketapril_df,propriva_df,naftisol_df], axis=1)"
   ]
  },
  {
   "cell_type": "code",
   "execution_count": 15,
   "metadata": {},
   "outputs": [
    {
     "data": {
      "text/html": [
       "<div>\n",
       "<style scoped>\n",
       "    .dataframe tbody tr th:only-of-type {\n",
       "        vertical-align: middle;\n",
       "    }\n",
       "\n",
       "    .dataframe tbody tr th {\n",
       "        vertical-align: top;\n",
       "    }\n",
       "\n",
       "    .dataframe thead th {\n",
       "        text-align: right;\n",
       "    }\n",
       "</style>\n",
       "<table border=\"1\" class=\"dataframe\">\n",
       "  <thead>\n",
       "    <tr style=\"text-align: right;\">\n",
       "      <th></th>\n",
       "      <th>Ramicane</th>\n",
       "      <th>Capomulin</th>\n",
       "      <th>Infubinol</th>\n",
       "      <th>Placebo</th>\n",
       "      <th>Ceftamin</th>\n",
       "      <th>Stelasyn</th>\n",
       "      <th>Zoniferol</th>\n",
       "      <th>Ketapril</th>\n",
       "      <th>Propriva</th>\n",
       "      <th>Naftisol</th>\n",
       "    </tr>\n",
       "  </thead>\n",
       "  <tbody>\n",
       "    <tr>\n",
       "      <th>Mean Tumor Volume</th>\n",
       "      <td>34.955595</td>\n",
       "      <td>36.236114</td>\n",
       "      <td>65.755562</td>\n",
       "      <td>65.755562</td>\n",
       "      <td>64.132421</td>\n",
       "      <td>68.438310</td>\n",
       "      <td>65.960888</td>\n",
       "      <td>70.662958</td>\n",
       "      <td>66.258529</td>\n",
       "      <td>69.265506</td>\n",
       "    </tr>\n",
       "    <tr>\n",
       "      <th>Median Tumor Volume</th>\n",
       "      <td>34.848627</td>\n",
       "      <td>37.311846</td>\n",
       "      <td>66.083066</td>\n",
       "      <td>66.083066</td>\n",
       "      <td>64.299830</td>\n",
       "      <td>69.299149</td>\n",
       "      <td>65.684689</td>\n",
       "      <td>69.872251</td>\n",
       "      <td>64.957562</td>\n",
       "      <td>69.563621</td>\n",
       "    </tr>\n",
       "    <tr>\n",
       "      <th>Variance Tumor Volume</th>\n",
       "      <td>30.101010</td>\n",
       "      <td>31.460537</td>\n",
       "      <td>11.787426</td>\n",
       "      <td>11.787426</td>\n",
       "      <td>10.585242</td>\n",
       "      <td>27.340818</td>\n",
       "      <td>14.100301</td>\n",
       "      <td>23.229260</td>\n",
       "      <td>24.967290</td>\n",
       "      <td>26.079104</td>\n",
       "    </tr>\n",
       "    <tr>\n",
       "      <th>StDev Tumor Volume</th>\n",
       "      <td>5.486439</td>\n",
       "      <td>5.608969</td>\n",
       "      <td>3.433282</td>\n",
       "      <td>3.433282</td>\n",
       "      <td>3.253497</td>\n",
       "      <td>5.228845</td>\n",
       "      <td>3.755037</td>\n",
       "      <td>4.819674</td>\n",
       "      <td>4.996728</td>\n",
       "      <td>5.106770</td>\n",
       "    </tr>\n",
       "    <tr>\n",
       "      <th>StErr Tumor Volume</th>\n",
       "      <td>1.226805</td>\n",
       "      <td>1.223977</td>\n",
       "      <td>1.144427</td>\n",
       "      <td>1.144427</td>\n",
       "      <td>0.902358</td>\n",
       "      <td>1.576556</td>\n",
       "      <td>1.003576</td>\n",
       "      <td>1.453186</td>\n",
       "      <td>1.888586</td>\n",
       "      <td>1.416363</td>\n",
       "    </tr>\n",
       "  </tbody>\n",
       "</table>\n",
       "</div>"
      ],
      "text/plain": [
       "                        Ramicane  Capomulin  Infubinol    Placebo   Ceftamin  \\\n",
       "Mean Tumor Volume      34.955595  36.236114  65.755562  65.755562  64.132421   \n",
       "Median Tumor Volume    34.848627  37.311846  66.083066  66.083066  64.299830   \n",
       "Variance Tumor Volume  30.101010  31.460537  11.787426  11.787426  10.585242   \n",
       "StDev Tumor Volume      5.486439   5.608969   3.433282   3.433282   3.253497   \n",
       "StErr Tumor Volume      1.226805   1.223977   1.144427   1.144427   0.902358   \n",
       "\n",
       "                        Stelasyn  Zoniferol   Ketapril   Propriva   Naftisol  \n",
       "Mean Tumor Volume      68.438310  65.960888  70.662958  66.258529  69.265506  \n",
       "Median Tumor Volume    69.299149  65.684689  69.872251  64.957562  69.563621  \n",
       "Variance Tumor Volume  27.340818  14.100301  23.229260  24.967290  26.079104  \n",
       "StDev Tumor Volume      5.228845   3.755037   4.819674   4.996728   5.106770  \n",
       "StErr Tumor Volume      1.576556   1.003576   1.453186   1.888586   1.416363  "
      ]
     },
     "execution_count": 15,
     "metadata": {},
     "output_type": "execute_result"
    }
   ],
   "source": [
    "# rename index to reflect stat types\n",
    "drugRegimenStats.index = ['Mean Tumor Volume','Median Tumor Volume','Variance Tumor Volume','StDev Tumor Volume','StErr Tumor Volume']\n",
    "drugRegimenStats"
   ]
  },
  {
   "cell_type": "code",
   "execution_count": 16,
   "metadata": {},
   "outputs": [
    {
     "data": {
      "text/html": [
       "<div>\n",
       "<style scoped>\n",
       "    .dataframe tbody tr th:only-of-type {\n",
       "        vertical-align: middle;\n",
       "    }\n",
       "\n",
       "    .dataframe tbody tr th {\n",
       "        vertical-align: top;\n",
       "    }\n",
       "\n",
       "    .dataframe thead th {\n",
       "        text-align: right;\n",
       "    }\n",
       "</style>\n",
       "<table border=\"1\" class=\"dataframe\">\n",
       "  <thead>\n",
       "    <tr style=\"text-align: right;\">\n",
       "      <th></th>\n",
       "      <th>MouseNumbers</th>\n",
       "    </tr>\n",
       "  </thead>\n",
       "  <tbody>\n",
       "    <tr>\n",
       "      <th>Ramicane</th>\n",
       "      <td>25</td>\n",
       "    </tr>\n",
       "    <tr>\n",
       "      <th>Capomulin</th>\n",
       "      <td>25</td>\n",
       "    </tr>\n",
       "    <tr>\n",
       "      <th>Infubinol</th>\n",
       "      <td>25</td>\n",
       "    </tr>\n",
       "    <tr>\n",
       "      <th>Placebo</th>\n",
       "      <td>25</td>\n",
       "    </tr>\n",
       "    <tr>\n",
       "      <th>Ceftamin</th>\n",
       "      <td>25</td>\n",
       "    </tr>\n",
       "    <tr>\n",
       "      <th>Stelasyn</th>\n",
       "      <td>24</td>\n",
       "    </tr>\n",
       "    <tr>\n",
       "      <th>Zoniferol</th>\n",
       "      <td>25</td>\n",
       "    </tr>\n",
       "    <tr>\n",
       "      <th>Ketapril</th>\n",
       "      <td>25</td>\n",
       "    </tr>\n",
       "    <tr>\n",
       "      <th>Propriva</th>\n",
       "      <td>25</td>\n",
       "    </tr>\n",
       "    <tr>\n",
       "      <th>Naftisol</th>\n",
       "      <td>25</td>\n",
       "    </tr>\n",
       "  </tbody>\n",
       "</table>\n",
       "</div>"
      ],
      "text/plain": [
       "           MouseNumbers\n",
       "Ramicane             25\n",
       "Capomulin            25\n",
       "Infubinol            25\n",
       "Placebo              25\n",
       "Ceftamin             25\n",
       "Stelasyn             24\n",
       "Zoniferol            25\n",
       "Ketapril             25\n",
       "Propriva             25\n",
       "Naftisol             25"
      ]
     },
     "execution_count": 16,
     "metadata": {},
     "output_type": "execute_result"
    }
   ],
   "source": [
    "# collect mouse numbers\n",
    "mouseNumberList = [ramicaneMouseNumber, capomulinMouseNumber, infubinolMouseNumber,placeboMouseNumber,ceftaminMouseNumber,stelasynMouseNumber,zoniferolMouseNumber,ketaprilMouseNumber,proprivaMouseNumber,naftisolMouseNumber]\n",
    "mouseNumbers= pd.DataFrame(data={'MouseNumbers':mouseNumberList})\n",
    "mouseNumbers.index = unique_drug_regimens\n",
    "mouseNumbers"
   ]
  },
  {
   "cell_type": "code",
   "execution_count": 60,
   "metadata": {},
   "outputs": [
    {
     "data": {
      "image/png": "[encoded data removed]",
      "text/plain": [
       "<Figure size 432x288 with 1 Axes>"
      ]
     },
     "metadata": {
      "needs_background": "light"
     },
     "output_type": "display_data"
    }
   ],
   "source": [
    "# plot number of mice with DataFrame.plt\n",
    "ax=mouseNumbers.plot.bar(legend=False);\n",
    "ax.set_xlabel('Drug Regimen');\n",
    "ax.set_ylabel('Number of Mice');"
   ]
  },
  {
   "cell_type": "code",
   "execution_count": 18,
   "metadata": {},
   "outputs": [
    {
     "data": {
      "image/png": "[encoded data removed]",
      "text/plain": [
       "<Figure size 432x288 with 1 Axes>"
      ]
     },
     "metadata": {
      "needs_background": "light"
     },
     "output_type": "display_data"
    }
   ],
   "source": [
    "# plot number of mice with pyplot\n",
    "plt.bar(x=unique_drug_regimens, height=mouseNumbers.MouseNumbers, width = 0.5);\n",
    "plt.xticks(rotation=90);\n",
    "plt.xlabel('Drug Regimen');\n",
    "plt.ylabel('Mouse Number');"
   ]
  },
  {
   "cell_type": "code",
   "execution_count": 45,
   "metadata": {},
   "outputs": [
    {
     "data": {
      "text/html": [
       "<div>\n",
       "<style scoped>\n",
       "    .dataframe tbody tr th:only-of-type {\n",
       "        vertical-align: middle;\n",
       "    }\n",
       "\n",
       "    .dataframe tbody tr th {\n",
       "        vertical-align: top;\n",
       "    }\n",
       "\n",
       "    .dataframe thead th {\n",
       "        text-align: right;\n",
       "    }\n",
       "</style>\n",
       "<table border=\"1\" class=\"dataframe\">\n",
       "  <thead>\n",
       "    <tr style=\"text-align: right;\">\n",
       "      <th></th>\n",
       "      <th>Sex</th>\n",
       "    </tr>\n",
       "  </thead>\n",
       "  <tbody>\n",
       "    <tr>\n",
       "      <th>Female</th>\n",
       "      <td>124</td>\n",
       "    </tr>\n",
       "    <tr>\n",
       "      <th>Male</th>\n",
       "      <td>125</td>\n",
       "    </tr>\n",
       "  </tbody>\n",
       "</table>\n",
       "</div>"
      ],
      "text/plain": [
       "        Sex\n",
       "Female  124\n",
       "Male    125"
      ]
     },
     "execution_count": 45,
     "metadata": {},
     "output_type": "execute_result"
    }
   ],
   "source": [
    "# find number of males and females used in study\n",
    "# get rid of duplicate mouse IDs to reduce df to contain just a single instance of Mouse ID per mouse\n",
    "uniqueMouseIDs = final_data.drop_duplicates(subset='Mouse ID', keep=\"first\")\n",
    "\n",
    "# check to see the number of rows in uniqueMouseIDs agrees with total number of mice used according to the bar charts\n",
    "uniqueMouseIDs.shape \n",
    "# yes, they agree\n",
    "\n",
    "# get number of females\n",
    "numberFemales = uniqueMouseIDs.groupby(by='Sex').size().Female\n",
    "\n",
    "# get number of males\n",
    "numberMales = uniqueMouseIDs.groupby(by='Sex').size().Male\n",
    "\n",
    "# turn into dataframe\n",
    "sexOfMice = pd.DataFrame(data={'Sex':[numberFemales, numberMales]})\n",
    "sexOfMice.index = ['Female', 'Male']\n",
    "sexOfMice"
   ]
  },
  {
   "cell_type": "code",
   "execution_count": 67,
   "metadata": {},
   "outputs": [
    {
     "data": {
      "image/png": "[encoded data removed]",
      "text/plain": [
       "<Figure size 432x288 with 1 Axes>"
      ]
     },
     "metadata": {},
     "output_type": "display_data"
    }
   ],
   "source": [
    "# plot male/female distribution as pie plot using Pandas\n",
    "sexOfMice.plot.pie(subplots=True, legend=False);"
   ]
  },
  {
   "cell_type": "code",
   "execution_count": 68,
   "metadata": {},
   "outputs": [
    {
     "data": {
      "image/png": "[encoded data removed]",
      "text/plain": [
       "<Figure size 432x288 with 1 Axes>"
      ]
     },
     "metadata": {},
     "output_type": "display_data"
    }
   ],
   "source": [
    "# plot male/female distribution as pie plot using pyplot\n",
    "plt.pie(sexOfMice.Sex, labels = sexOfMice.index);\n",
    "plt.ylabel('Sex');"
   ]
  },
  {
   "cell_type": "code",
   "execution_count": null,
   "metadata": {},
   "outputs": [],
   "source": []
  }
 ],
 "metadata": {
  "kernelspec": {
   "display_name": "Python 3",
   "language": "python",
   "name": "python3"
  },
  "language_info": {
   "codemirror_mode": {
    "name": "ipython",
    "version": 3
   },
   "file_extension": ".py",
   "mimetype": "text/x-python",
   "name": "python",
   "nbconvert_exporter": "python",
   "pygments_lexer": "ipython3",
   "version": "3.8.3"
  }
 },
 "nbformat": 4,
 "nbformat_minor": 4
}
